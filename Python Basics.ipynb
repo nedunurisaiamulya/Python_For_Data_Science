{
 "cells": [
  {
   "cell_type": "markdown",
   "id": "d6d6813e",
   "metadata": {},
   "source": [
    "# This is a Python Tutorial"
   ]
  },
  {
   "cell_type": "markdown",
   "id": "b4dc4482",
   "metadata": {},
   "source": [
    "First program in Python"
   ]
  },
  {
   "cell_type": "code",
   "execution_count": 27,
   "id": "2f1896da",
   "metadata": {},
   "outputs": [
    {
     "name": "stdout",
     "output_type": "stream",
     "text": [
      "Hello world\n"
     ]
    }
   ],
   "source": [
    "print(\"Hello world\")"
   ]
  },
  {
   "cell_type": "markdown",
   "id": "e39e1e83",
   "metadata": {},
   "source": [
    "# Variables"
   ]
  },
  {
   "cell_type": "code",
   "execution_count": 28,
   "id": "232e45ba",
   "metadata": {},
   "outputs": [
    {
     "name": "stdout",
     "output_type": "stream",
     "text": [
      "46\n"
     ]
    }
   ],
   "source": [
    "a= 12\n",
    "b = 34\n",
    "c=a+b\n",
    "print(c)"
   ]
  },
  {
   "cell_type": "code",
   "execution_count": 29,
   "id": "e2523753",
   "metadata": {},
   "outputs": [
    {
     "name": "stdout",
     "output_type": "stream",
     "text": [
      "6.87 -> <class 'float'> \n",
      " Hello -> <class 'str'> \n",
      " 67 -> <class 'int'> \n",
      " (2+4j) -> <class 'complex'>\n"
     ]
    }
   ],
   "source": [
    "a = 6.87\n",
    "b = \"Hello\"\n",
    "c = 67\n",
    "d = 2+4j\n",
    "print(a,'->',type(a),\"\\n\",b, '->',type(b),\"\\n\",c,'->',type(c),\"\\n\",d,'->',type(d))"
   ]
  },
  {
   "cell_type": "markdown",
   "id": "b064df1f",
   "metadata": {},
   "source": [
    "# Printing all the variables, their data types and data which are stored"
   ]
  },
  {
   "cell_type": "code",
   "execution_count": 30,
   "id": "2f54c16d",
   "metadata": {},
   "outputs": [
    {
     "name": "stdout",
     "output_type": "stream",
     "text": [
      "Variable   Type       Data/Info\n",
      "-------------------------------\n",
      "a          float      6.87\n",
      "b          str        Hello\n",
      "c          int        67\n",
      "d          complex    (2+4j)\n",
      "f          float      -344.5\n"
     ]
    }
   ],
   "source": [
    "%whos"
   ]
  },
  {
   "cell_type": "code",
   "execution_count": 31,
   "id": "e444f20c",
   "metadata": {},
   "outputs": [],
   "source": [
    "#multiple assignment\n",
    "a,b,c,d,e,f = 3,5,6.0,-3,\"abc\",-344.5 "
   ]
  },
  {
   "cell_type": "code",
   "execution_count": 32,
   "id": "f2db0ab1",
   "metadata": {},
   "outputs": [
    {
     "name": "stdout",
     "output_type": "stream",
     "text": [
      "Variable   Type     Data/Info\n",
      "-----------------------------\n",
      "a          int      3\n",
      "b          int      5\n",
      "c          float    6.0\n",
      "d          int      -3\n",
      "e          str      abc\n",
      "f          float    -344.5\n"
     ]
    }
   ],
   "source": [
    "%whos"
   ]
  },
  {
   "cell_type": "markdown",
   "id": "b788f649",
   "metadata": {},
   "source": [
    "# Deleting a variable"
   ]
  },
  {
   "cell_type": "code",
   "execution_count": 33,
   "id": "c7205aad",
   "metadata": {},
   "outputs": [],
   "source": [
    "del e"
   ]
  },
  {
   "cell_type": "code",
   "execution_count": 34,
   "id": "2877d3fe",
   "metadata": {},
   "outputs": [
    {
     "name": "stdout",
     "output_type": "stream",
     "text": [
      "Variable   Type     Data/Info\n",
      "-----------------------------\n",
      "a          int      3\n",
      "b          int      5\n",
      "c          float    6.0\n",
      "d          int      -3\n",
      "f          float    -344.5\n"
     ]
    }
   ],
   "source": [
    "%whos"
   ]
  },
  {
   "cell_type": "markdown",
   "id": "27fb2604",
   "metadata": {},
   "source": [
    "# Operators"
   ]
  },
  {
   "cell_type": "markdown",
   "id": "f535d67f",
   "metadata": {},
   "source": [
    "#####                +                       Addition\n",
    "#####                 -                      Subtraction\n",
    "#####                 /                      Division(Quotient)\n",
    "#####               %                      Mod (Remainder)\n",
    "#####                *                       Mutiplication\n",
    "#####                //                      Floor Division (Quotient round ex: (3.5 is Quotient)=> output: 3)\n",
    "#####               **                      to the power of (ex: 10**2 => output: 100)"
   ]
  },
  {
   "cell_type": "code",
   "execution_count": 39,
   "id": "a8345b58",
   "metadata": {},
   "outputs": [
    {
     "data": {
      "text/plain": [
       "125"
      ]
     },
     "execution_count": 39,
     "metadata": {},
     "output_type": "execute_result"
    }
   ],
   "source": [
    "a = 50+75\n",
    "a"
   ]
  },
  {
   "cell_type": "code",
   "execution_count": 40,
   "id": "2411aaa9",
   "metadata": {},
   "outputs": [
    {
     "data": {
      "text/plain": [
       "125"
      ]
     },
     "execution_count": 40,
     "metadata": {},
     "output_type": "execute_result"
    }
   ],
   "source": [
    "_ #prints the final value"
   ]
  },
  {
   "cell_type": "code",
   "execution_count": null,
   "id": "19bda297",
   "metadata": {},
   "outputs": [],
   "source": []
  }
 ],
 "metadata": {
  "kernelspec": {
   "display_name": "Python 3 (ipykernel)",
   "language": "python",
   "name": "python3"
  },
  "language_info": {
   "codemirror_mode": {
    "name": "ipython",
    "version": 3
   },
   "file_extension": ".py",
   "mimetype": "text/x-python",
   "name": "python",
   "nbconvert_exporter": "python",
   "pygments_lexer": "ipython3",
   "version": "3.9.7"
  }
 },
 "nbformat": 4,
 "nbformat_minor": 5
}
